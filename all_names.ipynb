{
 "cells": [
  {
   "cell_type": "markdown",
   "metadata": {},
   "source": [
    "# <center> Federal Reserve Attendance  </center>\n",
    "### Goal:\n",
    "1. Survival Analysis of present economist at the Federal Reserve Open Market Committe Meetings \n",
    "2. Text analysis of meeting minutes"
   ]
  },
  {
   "cell_type": "code",
   "execution_count": 1,
   "metadata": {},
   "outputs": [],
   "source": [
    "import pandas as pd\n",
    "from bs4 import BeautifulSoup as BS\n",
    "from bs4 import element\n",
    "import spacy\n",
    "import itertools\n",
    "\n",
    "file_dir = r\"C:\\Users\\Richy\\Documents\\Python Scripts\\fed_proj\\fed_min_project\\fed_min_project\\spiders\"\n",
    "file_name = file_dir + r\"\\fed_mins.csv\"\n",
    "\n",
    "df = pd.read_csv(file_name, names = ['date', 'html'])\n",
    "\n",
    "# CSV's first row is empty \n",
    "df = df.drop(0)\n",
    "\n",
    "# Weird fromating but some rows have '–' instead of '-',\n",
    "# affects the pd.to_datetime()\n",
    "df['date'] = df['date'].str.replace('–', '-')"
   ]
  },
  {
   "cell_type": "code",
   "execution_count": 2,
   "metadata": {},
   "outputs": [],
   "source": [
    "# make function to get rid of second day\n",
    "# i.e. March 20-21, 2018 -> March 20, 2018\n",
    "def date_simp(date):\n",
    "    FirstKey = date.find('-')\n",
    "    SecondKey = date.find(',')\n",
    "    return pd.to_datetime(date.replace(date[FirstKey:SecondKey], \"\"))\n",
    "\n",
    "df['date'] = df.date.apply(date_simp)\n",
    "\n",
    "# Sort df by date\n",
    "df = df.sort_values(by = ['date'])"
   ]
  },
  {
   "cell_type": "code",
   "execution_count": 3,
   "metadata": {},
   "outputs": [],
   "source": [
    "#make the the html column into BeautifulSoup Objects\n",
    "df['html'] = df['html'].apply(lambda x: BS(x, 'html.parser'))"
   ]
  },
  {
   "cell_type": "code",
   "execution_count": 4,
   "metadata": {},
   "outputs": [
    {
     "name": "stdout",
     "output_type": "stream",
     "text": [
      "FOMC notes from the meeting on January 28-29, 2014\n",
      "FOMC notes from the meeting on March 18-19, 2014\n",
      "FOMC notes from the meeting on April 29-30, 2014\n",
      "FOMC notes from the meeting on June 17-18, 2014\n",
      "FOMC notes from the meeting on July 29-30, 2014\n"
     ]
    }
   ],
   "source": [
    "# Test to see if BS objects are consistent\n",
    "for i in range(5): #range(len(df))\n",
    "    print(\"FOMC notes from the meeting on {}\".format(df.iloc[i,1].contents[0].text))"
   ]
  },
  {
   "cell_type": "markdown",
   "metadata": {},
   "source": [
    "### <center> Roll Call </center>\n",
    "#### Subsetting html for the names inbetween the Present List"
   ]
  },
  {
   "cell_type": "code",
   "execution_count": 5,
   "metadata": {},
   "outputs": [],
   "source": [
    "def present_list(names):\n",
    "    '''\n",
    "    Present_list: function that returns the list of all present economist for a given FOMC meetings\n",
    "    Input: Original HTML\n",
    "    Output: List of names. *Technically a set (; #PythonJokes\n",
    "    '''\n",
    "    \n",
    "    #Initialize a counting of strong tags. After 2 we know we have what we want \n",
    "    counter = 0\n",
    "    nlp = spacy.load('en_core_web_sm') #, tagger = False, parser = False, matcher = False)\n",
    "    \n",
    "    # Subset HTML to only present names #\n",
    "    # Iterate over children.\n",
    "    for i in names.findChildren():\n",
    "        if i.name == \"strong\":\n",
    "            counter += 1\n",
    "            if counter == 2:\n",
    "                i.parent.decompose()  # Remove the second Strong tag's parent.\n",
    "        if counter > 1:  # Remove all tags after second Strong tag.\n",
    "            if isinstance(i, element.Tag):\n",
    "                i.decompose()\n",
    "                \n",
    "    #names_str = str(names)\n",
    "    doc_spacy = nlp(names.text)\n",
    "\n",
    "    names_list = []\n",
    "    for ent in doc_spacy.ents:\n",
    "        if ent.label_ == 'PERSON':\n",
    "            names_list.append(ent.text)\n",
    "\n",
    "    # Remove all charachter after \",\"\n",
    "    names_list = [name.split(\",\", 1)[0] for name in names_list]\n",
    "    # Remove all digits from names\n",
    "    names_list = [i for i in names_list if not any(c.isdigit() for c in i)]\n",
    "    names_list = list(set(names_list))\n",
    "    return names_list"
   ]
  },
  {
   "cell_type": "code",
   "execution_count": 6,
   "metadata": {},
   "outputs": [],
   "source": [
    "# Apply function to html column to make a new column\n",
    "df['present'] = df['html'].apply(present_list)\n",
    "# takes between 12 ~ 30 seconds to run"
   ]
  },
  {
   "cell_type": "code",
   "execution_count": 7,
   "metadata": {},
   "outputs": [],
   "source": [
    "#df.head()"
   ]
  },
  {
   "cell_type": "code",
   "execution_count": 8,
   "metadata": {},
   "outputs": [],
   "source": [
    "# Date Cleaning: Some of the names below cause problems with the dashboard so we take of them now\n",
    "\n",
    "for i in range(len(df)):\n",
    "    for name in range(len(df.iloc[i, -1])):\n",
    "        if df.iloc[i, -1][name] == 'Don Kim':\n",
    "            df.iloc[i, -1][name] = 'Don H. Kim'            \n",
    "        elif df.iloc[i, -1][name] == 'James M.':\n",
    "            df.iloc[i, -1][name] = 'James M. Trevino'            \n",
    "        elif df.iloc[i, -1][name] == 'Gretchen C.':\n",
    "            df.iloc[i, -1][name] = 'Gretchen C. Weinbach'\n",
    "        elif df.iloc[i, -1][name] == 'Òscar Jordà':\n",
    "            df.iloc[i, -1][name] = 'Oscar Jorda'\n",
    "        elif df.iloc[i, -1][name] == 'Egon Zakrajšek':\n",
    "            df.iloc[i, -1][name] = 'Egon Zakrajsek'\n",
    "        elif df.iloc[i, -1][name] == 'David López-Salido':\n",
    "            df.iloc[i, -1][name] = 'David Lopez-Salido'\n",
    "        elif df.iloc[i, -1][name] == 'Mark E. Van Der':\n",
    "            df.iloc[i, -1][name] = 'Mark E. Van Der Weide'\n",
    "        elif df.iloc[i, -1][name] == 'Janet L. Yellen Christine Cumming':\n",
    "            df.iloc[i, -1][name] = 'Christine Cumming'\n",
    "            df.iloc[i, -1].append('Janet L. Yellen')\n",
    "        elif df.iloc[i, -1][name] == 'Counsel Thomas C. Baxter':\n",
    "            df.iloc[i, -1][name] = 'Thomas C. Baxter'\n",
    "        elif df.iloc[i, -1][name] == 'Daniel K. Tarullo Christine Cumming':\n",
    "            df.iloc[i, -1][name] = 'Christine Cumming'\n",
    "            df.iloc[i, -1].append('Daniel K. Tarullo')\n",
    "        elif df.iloc[i, -1][name] == 'Daniel K. Tarullo Marie Gooding':\n",
    "            df.iloc[i, -1][name] = 'Daniel K. Tarullo'\n",
    "            df.iloc[i, -1].append('Marie Gooding')\n",
    "        elif df.iloc[i, -1][name] == 'Jerome H. Powell Marie Gooding':\n",
    "            df.iloc[i, -1][name] = 'Jerome H. Powell'\n",
    "            df.iloc[i, -1].append('Marie Gooding')\n",
    "        elif df.iloc[i, -1][name] == 'Jane E.':\n",
    "            df.iloc[i, -1][name] = 'Jane E. Ihrig'"
   ]
  },
  {
   "cell_type": "code",
   "execution_count": 9,
   "metadata": {},
   "outputs": [],
   "source": [
    "df['present'] = df['present'].apply(set, list)"
   ]
  },
  {
   "cell_type": "markdown",
   "metadata": {},
   "source": [
    "#### Create a running list of all names present on list"
   ]
  },
  {
   "cell_type": "code",
   "execution_count": 10,
   "metadata": {},
   "outputs": [],
   "source": [
    "# Make list of all present guest\n",
    "complete_names = []\n",
    "\n",
    "for i in range(len(df)):\n",
    "    remake = list(df.present.iloc[i])\n",
    "    complete_names.append(remake)\n",
    "    \n",
    "complete_names = list(itertools.chain.from_iterable(complete_names))\n",
    "\n",
    "#remove digits from names\n",
    "complete_names = [i for i in complete_names if not any(c.isdigit() for c in i)]"
   ]
  },
  {
   "cell_type": "code",
   "execution_count": 11,
   "metadata": {},
   "outputs": [
    {
     "name": "stdout",
     "output_type": "stream",
     "text": [
      "Before removing redundant names there are 331 unique names\n"
     ]
    }
   ],
   "source": [
    "# Find only unique names\n",
    "complete_names = list(set(complete_names))\n",
    "\n",
    "print(\"Before removing redundant names there are {} unique names\".format(len(complete_names)))\n",
    "#complete_names"
   ]
  },
  {
   "cell_type": "code",
   "execution_count": 12,
   "metadata": {},
   "outputs": [],
   "source": [
    "# Make a list of names we dont want in our list\n",
    "bad_words = ['PRESENT', 'Jr.', 'Mester', 'Fischer', 'Susan', 'Linda',  'James M.'\n",
    "            'Jane E.', 'E. Dunn', 'Jeffrey D.', 'Frierson', 'K. Logan', 'Fabio M.',\n",
    "            'Chair', 'Chair\\n', 'Williams', 'Robert J.', 'Powell', 'Jerome H. Powell Marie Gooding',\n",
    "            'Daniel K. Tarullo Marie Gooding']"
   ]
  },
  {
   "cell_type": "code",
   "execution_count": 13,
   "metadata": {},
   "outputs": [
    {
     "name": "stdout",
     "output_type": "stream",
     "text": [
      "After removing redundant names there are 315 unique names\n"
     ]
    }
   ],
   "source": [
    "# List comprehension to remove redundant names\n",
    "complete_names = [word for word in complete_names if word not in bad_words]\n",
    "\n",
    " #make the comoplete names list alphabetical\n",
    "complete_names.sort()\n",
    "    \n",
    "print(\"After removing redundant names there are {} unique names\".format(len(complete_names)))"
   ]
  },
  {
   "cell_type": "code",
   "execution_count": 14,
   "metadata": {},
   "outputs": [
    {
     "name": "stdout",
     "output_type": "stream",
     "text": [
      "There are 64 unique names from the 2014-01-28 00:00:00 meeting\n",
      "After removing bad words there are 63 unique names from the 2014-01-28 00:00:00 meeting\n"
     ]
    }
   ],
   "source": [
    "# Remove bad words from the df['present'] column\n",
    "print('There are {} unique names from the {} meeting'.format(len(df.iloc[0, -1]), df.iloc[0,0]))\n",
    "\n",
    "\n",
    "df['present'] = df['present'].apply(lambda name: [word for word in name if word not in bad_words])\n",
    "\n",
    "\n",
    "print('After removing bad words there are {} unique names from the {} meeting'.format(len(df.iloc[0, -1]), df.iloc[0,0]))"
   ]
  },
  {
   "cell_type": "code",
   "execution_count": 15,
   "metadata": {},
   "outputs": [],
   "source": [
    "#order all columns of the present column alphabetically\n",
    "df['present'] = df['present'].apply(sorted)"
   ]
  },
  {
   "cell_type": "markdown",
   "metadata": {},
   "source": [
    "### <center> Attendance Dataframe </center>\n",
    "#### A dataframe of all the economist that were present for FOMC meetings since 2014\n",
    "The columns reprsent the date of the FOMC meeting (1/2014 - 7/2019). The rows represnet the one of 319 economist that has been present for a FOMC meeting since 2014."
   ]
  },
  {
   "cell_type": "code",
   "execution_count": 16,
   "metadata": {},
   "outputs": [],
   "source": [
    "# Make a new empty DateFrame to append values of attendance\n",
    "present_df = pd.DataFrame()"
   ]
  },
  {
   "cell_type": "code",
   "execution_count": 17,
   "metadata": {},
   "outputs": [],
   "source": [
    "# Loop over each list of the df.present column\n",
    "for name in range(len(df)):\n",
    "    empty = []\n",
    "        #create a empty list to append the attendance for each meeting    \n",
    "        \n",
    "    # Loop over all names from the complete list\n",
    "    for all_names in range(len(complete_names)):\n",
    "        \n",
    "        # if name in complete list is in the df.present list\n",
    "        if complete_names[all_names] in df.iloc[name, -1]:\n",
    "            empty.append(1)\n",
    "        else:\n",
    "            empty.append(0)\n",
    "    empty_df = pd.DataFrame(empty)\n",
    "    present_df = pd.concat([present_df, empty_df], axis= 1)\n",
    "        # Append the list for given FOMC meeting to the empty present_df dataframe"
   ]
  },
  {
   "cell_type": "code",
   "execution_count": 18,
   "metadata": {},
   "outputs": [],
   "source": [
    "# Make date columns by spliting the :oo:oo:00 from the original date values\n",
    "date_columns = []\n",
    "for i in range(len(df)):\n",
    "    date_columns.append(str(df.iloc[i, 0]).split(' ')[0])"
   ]
  },
  {
   "cell_type": "code",
   "execution_count": 19,
   "metadata": {},
   "outputs": [],
   "source": [
    "present_df.columns = date_columns\n",
    "present_df.index = complete_names"
   ]
  },
  {
   "cell_type": "code",
   "execution_count": 20,
   "metadata": {},
   "outputs": [],
   "source": [
    "present_df['Total'] = present_df.sum(axis = 1)"
   ]
  },
  {
   "cell_type": "code",
   "execution_count": 21,
   "metadata": {},
   "outputs": [],
   "source": [
    "present_df.loc['Total']= present_df.sum()"
   ]
  },
  {
   "cell_type": "code",
   "execution_count": 22,
   "metadata": {},
   "outputs": [],
   "source": [
    "present_df = present_df.T\n",
    "    #Transpose df"
   ]
  },
  {
   "cell_type": "code",
   "execution_count": 23,
   "metadata": {},
   "outputs": [
    {
     "data": {
      "text/html": [
       "<div>\n",
       "<style scoped>\n",
       "    .dataframe tbody tr th:only-of-type {\n",
       "        vertical-align: middle;\n",
       "    }\n",
       "\n",
       "    .dataframe tbody tr th {\n",
       "        vertical-align: top;\n",
       "    }\n",
       "\n",
       "    .dataframe thead th {\n",
       "        text-align: right;\n",
       "    }\n",
       "</style>\n",
       "<table border=\"1\" class=\"dataframe\">\n",
       "  <thead>\n",
       "    <tr style=\"text-align: right;\">\n",
       "      <th></th>\n",
       "      <th>A. Lee Smith</th>\n",
       "      <th>Achilles Sangster II</th>\n",
       "      <th>Alberto G. Musalem</th>\n",
       "      <th>Alexander L. Wolman</th>\n",
       "      <th>Alyssa G. Anderson</th>\n",
       "      <th>Andre Anderson</th>\n",
       "      <th>Andrea Ajello</th>\n",
       "      <th>Andrea Raffo</th>\n",
       "      <th>Andrea Tambalotti</th>\n",
       "      <th>Andreas L. Hornstein</th>\n",
       "      <th>...</th>\n",
       "      <th>William C. Dudley</th>\n",
       "      <th>William Dupor</th>\n",
       "      <th>William E. Riordan</th>\n",
       "      <th>William F. Bassett</th>\n",
       "      <th>William Nelson</th>\n",
       "      <th>William R. Nelson</th>\n",
       "      <th>William Wascher</th>\n",
       "      <th>Yuriy Kitsul</th>\n",
       "      <th>Zeynep Senyuz</th>\n",
       "      <th>Total</th>\n",
       "    </tr>\n",
       "  </thead>\n",
       "  <tbody>\n",
       "    <tr>\n",
       "      <th>2014-01-28</th>\n",
       "      <td>0</td>\n",
       "      <td>0</td>\n",
       "      <td>0</td>\n",
       "      <td>0</td>\n",
       "      <td>0</td>\n",
       "      <td>0</td>\n",
       "      <td>0</td>\n",
       "      <td>0</td>\n",
       "      <td>0</td>\n",
       "      <td>0</td>\n",
       "      <td>...</td>\n",
       "      <td>1</td>\n",
       "      <td>0</td>\n",
       "      <td>0</td>\n",
       "      <td>0</td>\n",
       "      <td>1</td>\n",
       "      <td>0</td>\n",
       "      <td>1</td>\n",
       "      <td>1</td>\n",
       "      <td>0</td>\n",
       "      <td>63</td>\n",
       "    </tr>\n",
       "    <tr>\n",
       "      <th>2014-03-18</th>\n",
       "      <td>0</td>\n",
       "      <td>0</td>\n",
       "      <td>0</td>\n",
       "      <td>0</td>\n",
       "      <td>0</td>\n",
       "      <td>0</td>\n",
       "      <td>0</td>\n",
       "      <td>0</td>\n",
       "      <td>0</td>\n",
       "      <td>0</td>\n",
       "      <td>...</td>\n",
       "      <td>1</td>\n",
       "      <td>0</td>\n",
       "      <td>0</td>\n",
       "      <td>0</td>\n",
       "      <td>1</td>\n",
       "      <td>0</td>\n",
       "      <td>1</td>\n",
       "      <td>0</td>\n",
       "      <td>0</td>\n",
       "      <td>61</td>\n",
       "    </tr>\n",
       "    <tr>\n",
       "      <th>2014-04-29</th>\n",
       "      <td>0</td>\n",
       "      <td>0</td>\n",
       "      <td>1</td>\n",
       "      <td>0</td>\n",
       "      <td>0</td>\n",
       "      <td>0</td>\n",
       "      <td>0</td>\n",
       "      <td>0</td>\n",
       "      <td>0</td>\n",
       "      <td>1</td>\n",
       "      <td>...</td>\n",
       "      <td>1</td>\n",
       "      <td>0</td>\n",
       "      <td>0</td>\n",
       "      <td>0</td>\n",
       "      <td>1</td>\n",
       "      <td>0</td>\n",
       "      <td>1</td>\n",
       "      <td>0</td>\n",
       "      <td>0</td>\n",
       "      <td>66</td>\n",
       "    </tr>\n",
       "    <tr>\n",
       "      <th>2014-06-17</th>\n",
       "      <td>0</td>\n",
       "      <td>1</td>\n",
       "      <td>0</td>\n",
       "      <td>0</td>\n",
       "      <td>0</td>\n",
       "      <td>0</td>\n",
       "      <td>0</td>\n",
       "      <td>0</td>\n",
       "      <td>0</td>\n",
       "      <td>0</td>\n",
       "      <td>...</td>\n",
       "      <td>1</td>\n",
       "      <td>0</td>\n",
       "      <td>0</td>\n",
       "      <td>1</td>\n",
       "      <td>0</td>\n",
       "      <td>1</td>\n",
       "      <td>1</td>\n",
       "      <td>0</td>\n",
       "      <td>0</td>\n",
       "      <td>73</td>\n",
       "    </tr>\n",
       "    <tr>\n",
       "      <th>2014-07-29</th>\n",
       "      <td>0</td>\n",
       "      <td>0</td>\n",
       "      <td>0</td>\n",
       "      <td>0</td>\n",
       "      <td>0</td>\n",
       "      <td>0</td>\n",
       "      <td>0</td>\n",
       "      <td>0</td>\n",
       "      <td>0</td>\n",
       "      <td>0</td>\n",
       "      <td>...</td>\n",
       "      <td>1</td>\n",
       "      <td>0</td>\n",
       "      <td>0</td>\n",
       "      <td>0</td>\n",
       "      <td>0</td>\n",
       "      <td>1</td>\n",
       "      <td>1</td>\n",
       "      <td>0</td>\n",
       "      <td>0</td>\n",
       "      <td>69</td>\n",
       "    </tr>\n",
       "  </tbody>\n",
       "</table>\n",
       "<p>5 rows × 316 columns</p>\n",
       "</div>"
      ],
      "text/plain": [
       "            A. Lee Smith  Achilles Sangster II  Alberto G. Musalem  \\\n",
       "2014-01-28             0                     0                   0   \n",
       "2014-03-18             0                     0                   0   \n",
       "2014-04-29             0                     0                   1   \n",
       "2014-06-17             0                     1                   0   \n",
       "2014-07-29             0                     0                   0   \n",
       "\n",
       "            Alexander L. Wolman  Alyssa G. Anderson  Andre Anderson  \\\n",
       "2014-01-28                    0                   0               0   \n",
       "2014-03-18                    0                   0               0   \n",
       "2014-04-29                    0                   0               0   \n",
       "2014-06-17                    0                   0               0   \n",
       "2014-07-29                    0                   0               0   \n",
       "\n",
       "            Andrea Ajello  Andrea Raffo  Andrea Tambalotti  \\\n",
       "2014-01-28              0             0                  0   \n",
       "2014-03-18              0             0                  0   \n",
       "2014-04-29              0             0                  0   \n",
       "2014-06-17              0             0                  0   \n",
       "2014-07-29              0             0                  0   \n",
       "\n",
       "            Andreas L. Hornstein  ...  William C. Dudley  William Dupor  \\\n",
       "2014-01-28                     0  ...                  1              0   \n",
       "2014-03-18                     0  ...                  1              0   \n",
       "2014-04-29                     1  ...                  1              0   \n",
       "2014-06-17                     0  ...                  1              0   \n",
       "2014-07-29                     0  ...                  1              0   \n",
       "\n",
       "            William E. Riordan  William F. Bassett  William Nelson  \\\n",
       "2014-01-28                   0                   0               1   \n",
       "2014-03-18                   0                   0               1   \n",
       "2014-04-29                   0                   0               1   \n",
       "2014-06-17                   0                   1               0   \n",
       "2014-07-29                   0                   0               0   \n",
       "\n",
       "            William R. Nelson  William Wascher  Yuriy Kitsul  Zeynep Senyuz  \\\n",
       "2014-01-28                  0                1             1              0   \n",
       "2014-03-18                  0                1             0              0   \n",
       "2014-04-29                  0                1             0              0   \n",
       "2014-06-17                  1                1             0              0   \n",
       "2014-07-29                  1                1             0              0   \n",
       "\n",
       "            Total  \n",
       "2014-01-28     63  \n",
       "2014-03-18     61  \n",
       "2014-04-29     66  \n",
       "2014-06-17     73  \n",
       "2014-07-29     69  \n",
       "\n",
       "[5 rows x 316 columns]"
      ]
     },
     "execution_count": 23,
     "metadata": {},
     "output_type": "execute_result"
    }
   ],
   "source": [
    "present_df.head()"
   ]
  },
  {
   "cell_type": "code",
   "execution_count": 24,
   "metadata": {},
   "outputs": [
    {
     "data": {
      "text/plain": [
       "63"
      ]
     },
     "execution_count": 24,
     "metadata": {},
     "output_type": "execute_result"
    }
   ],
   "source": [
    "len(df.iloc[0,-1])"
   ]
  },
  {
   "cell_type": "code",
   "execution_count": 25,
   "metadata": {},
   "outputs": [],
   "source": [
    "present_string = present_df.replace([1,0], ['Present', 'Absent'])\n",
    "present_string = present_string.drop('Total')\n",
    "present_string = present_string.drop(columns = 'Total')\n",
    "\n",
    "#write out to csv\n",
    "present_string.to_csv('present_list.csv')"
   ]
  },
  {
   "cell_type": "markdown",
   "metadata": {},
   "source": [
    "### Test to check if count of names is correct"
   ]
  },
  {
   "cell_type": "code",
   "execution_count": 26,
   "metadata": {},
   "outputs": [],
   "source": [
    "def name_counter(names):\n",
    "    name_count = 0\n",
    "    for name in range(len(df)):\n",
    "        if names in df.iloc[name, -1]:\n",
    "            name_count += 1\n",
    "    return names, \" appears \", name_count "
   ]
  },
  {
   "cell_type": "code",
   "execution_count": 27,
   "metadata": {},
   "outputs": [
    {
     "data": {
      "text/plain": [
       "('Marie Gooding', ' appears ', 3)"
      ]
     },
     "execution_count": 27,
     "metadata": {},
     "output_type": "execute_result"
    }
   ],
   "source": [
    "name_counter('Marie Gooding')"
   ]
  },
  {
   "cell_type": "code",
   "execution_count": null,
   "metadata": {},
   "outputs": [],
   "source": []
  }
 ],
 "metadata": {
  "kernelspec": {
   "display_name": "Python 3",
   "language": "python",
   "name": "python3"
  },
  "language_info": {
   "codemirror_mode": {
    "name": "ipython",
    "version": 3
   },
   "file_extension": ".py",
   "mimetype": "text/x-python",
   "name": "python",
   "nbconvert_exporter": "python",
   "pygments_lexer": "ipython3",
   "version": "3.6.8"
  }
 },
 "nbformat": 4,
 "nbformat_minor": 2
}
